{
 "cells": [
  {
   "cell_type": "code",
   "execution_count": 52,
   "metadata": {},
   "outputs": [],
   "source": [
    "import pickle\n",
    "import itertools\n",
    "import numpy as np\n",
    "from scipy.sparse import csc_matrix, lil_matrix"
   ]
  },
  {
   "cell_type": "code",
   "execution_count": 2,
   "metadata": {},
   "outputs": [],
   "source": [
    "#G = pickle.load(open('../C-graph1/OUTPUT/UV/column-a-graph.pkl', \"rb\"))['G']"
   ]
  },
  {
   "cell_type": "code",
   "execution_count": 3,
   "metadata": {},
   "outputs": [],
   "source": [
    "C = pickle.load(open('../C-graph1/OUTPUT/UV/column-b-cliques.pkl', \"rb\"))['C']"
   ]
  },
  {
   "cell_type": "code",
   "execution_count": 6,
   "metadata": {},
   "outputs": [],
   "source": [
    "# Each clique as sorted sequence\n",
    "C = [tuple(sorted(c)) for c in C]"
   ]
  },
  {
   "cell_type": "code",
   "execution_count": 7,
   "metadata": {},
   "outputs": [
    {
     "data": {
      "text/plain": [
       "'Number of maximal cliques: 41 million'"
      ]
     },
     "execution_count": 7,
     "metadata": {},
     "output_type": "execute_result"
    }
   ],
   "source": [
    "\"Number of maximal cliques: {} million\".format(round(len(C) / 1e6))"
   ]
  },
  {
   "cell_type": "code",
   "execution_count": 77,
   "metadata": {},
   "outputs": [
    {
     "data": {
      "text/plain": [
       "[(0, 1), (1, 718), (2, 4231), (3, 5981), (4, 2731), (5, 266)]"
      ]
     },
     "execution_count": 77,
     "metadata": {},
     "output_type": "execute_result"
    }
   ],
   "source": [
    "NC = dict([])\n",
    "for n in range(0, 6) :\n",
    "    nc2i = dict([])\n",
    "    # i = maximal clique index\n",
    "    for i in range(0, 2000) :\n",
    "        # List of n-cliques belonging to max clique C[i]\n",
    "        nC = list(itertools.combinations(C[i], n))\n",
    "        if (len(nC) == 0) : continue\n",
    "        for nc in nC : \n",
    "            if not (nc in nc2i) :\n",
    "                nc2i[nc] = len(nc2i)\n",
    "    NC[n] = nc2i\n",
    "\n",
    "[(n, len(nc2i)) for (n, nc2i) in NC.items()]"
   ]
  },
  {
   "cell_type": "code",
   "execution_count": 78,
   "metadata": {},
   "outputs": [
    {
     "data": {
      "text/plain": [
       "[((3491, 4192, 5509, 5895), 2358),\n",
       " ((1, 5272, 14389, 15332), 1318),\n",
       " ((1, 3806, 8214, 15695), 417),\n",
       " ((1, 111, 5812, 16299), 2640)]"
      ]
     },
     "execution_count": 78,
     "metadata": {},
     "output_type": "execute_result"
    }
   ],
   "source": [
    "list(NC[4].items())[0:4]"
   ]
  },
  {
   "cell_type": "code",
   "execution_count": 79,
   "metadata": {},
   "outputs": [],
   "source": [
    "D = dict([])\n",
    "for n in range(1, len(NC)) :\n",
    "    D[n] = lil_matrix( (len(NC[n-1]), len(NC[n])) )\n",
    "    for (nc, j) in NC[n].items() :\n",
    "        s = 1\n",
    "        for k in range(0, n) :\n",
    "            s = -s\n",
    "            c = nc[0:k] + nc[k+1:]\n",
    "            i = NC[n-1][c]\n",
    "            D[n][i, j] = s"
   ]
  },
  {
   "cell_type": "code",
   "execution_count": 80,
   "metadata": {},
   "outputs": [
    {
     "name": "stdout",
     "output_type": "stream",
     "text": [
      "(1, 718)\n",
      "n: 1, rk: 1, ns: 717\n",
      "(718, 4231)\n",
      "n: 2, rk: 717, ns: 3514\n",
      "(4231, 5981)\n",
      "n: 3, rk: 3514, ns: 2467\n",
      "(5981, 2731)\n",
      "n: 4, rk: 2467, ns: 264\n",
      "(2731, 266)\n",
      "n: 5, rk: 264, ns: 2\n",
      "0\n",
      "0\n",
      "0\n",
      "0\n"
     ]
    }
   ],
   "source": [
    "rk = dict([])\n",
    "ns = dict([])\n",
    "for n in range(1, len(NC)) :\n",
    "    print(D[n].shape)\n",
    "    rk[n] = np.linalg.matrix_rank(D[n].todense())\n",
    "    ns[n] = D[n].shape[1] - rk[n]\n",
    "    print(\"n: {}, rk: {}, ns: {}\".format(n, rk[n], ns[n]))\n",
    "\n",
    "for n in range(1, len(NC)-1) :\n",
    "    print(ns[n] - rk[n+1])"
   ]
  },
  {
   "cell_type": "code",
   "execution_count": null,
   "metadata": {},
   "outputs": [],
   "source": []
  }
 ],
 "metadata": {
  "kernelspec": {
   "display_name": "Python 3",
   "language": "python",
   "name": "python3"
  },
  "language_info": {
   "codemirror_mode": {
    "name": "ipython",
    "version": 3
   },
   "file_extension": ".py",
   "mimetype": "text/x-python",
   "name": "python",
   "nbconvert_exporter": "python",
   "pygments_lexer": "ipython3",
   "version": "3.5.2"
  }
 },
 "nbformat": 4,
 "nbformat_minor": 2
}
